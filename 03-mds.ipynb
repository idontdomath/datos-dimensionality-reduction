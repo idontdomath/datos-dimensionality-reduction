{
 "cells": [
  {
   "cell_type": "markdown",
   "metadata": {},
   "source": [
    "# MDS Cities"
   ]
  },
  {
   "cell_type": "code",
   "execution_count": 40,
   "metadata": {},
   "outputs": [],
   "source": [
    "import warnings\n",
    "warnings.filterwarnings('ignore')\n",
    "\n",
    "## Interactive magics - comment out if running from another script\n",
    "%matplotlib inline\n",
    "%qtconsole"
   ]
  },
  {
   "cell_type": "code",
   "execution_count": 41,
   "metadata": {},
   "outputs": [
    {
     "name": "stdout",
     "output_type": "stream",
     "text": [
      "Automatically created module for IPython interactive environment\n"
     ]
    }
   ],
   "source": [
    "print(__doc__)\n",
    "import numpy as np\n",
    "\n",
    "from matplotlib import pyplot as plt\n",
    "\n",
    "from sklearn import manifold\n",
    "from sklearn.metrics import euclidean_distances\n",
    "\n",
    "import scipy.io\n",
    "import pandas as pd"
   ]
  },
  {
   "cell_type": "markdown",
   "metadata": {},
   "source": [
    "## Carga de datos de ciudades y Preparacion a Matriz de Distancias"
   ]
  },
  {
   "cell_type": "code",
   "execution_count": 42,
   "metadata": {},
   "outputs": [],
   "source": [
    "# carga de una matriz de matlab\n",
    "mat = scipy.io.loadmat('cities.mat')"
   ]
  },
  {
   "cell_type": "code",
   "execution_count": 43,
   "metadata": {},
   "outputs": [
    {
     "data": {
      "text/plain": [
       "{'__header__': b'MATLAB 5.0 MAT-file, Platform: PCWIN64, Created on: Thu Jan 22 00:56:39 2015',\n",
       " '__version__': '1.0',\n",
       " '__globals__': [],\n",
       " 'cities': array([[   0,  587, 1212,  701, 1936,  604,  748, 2139, 2182,  543],\n",
       "        [ 587,    0,  920,  940, 1745, 1188,  713, 1858, 1737,  597],\n",
       "        [1212,  920,    0,  879,  831, 1726, 1631,  949, 1021, 1494],\n",
       "        [ 701,  940,  879,    0, 1374,  968, 1420, 1645, 1891, 1220],\n",
       "        [1936, 1745,  831, 1374,    0, 2339, 2451,  347,  959, 2300],\n",
       "        [ 604, 1188, 1726,  968, 2339,    0, 1092, 2594, 2734,  923],\n",
       "        [ 748,  713, 1631, 1420, 2451, 1092,    0, 2571, 2408,  205],\n",
       "        [2139, 1858,  949, 1645,  347, 2594, 2571,    0,  678, 2442],\n",
       "        [2182, 1737, 1021, 1891,  959, 2734, 2408,  678,    0, 2329],\n",
       "        [ 543,  597, 1494, 1220, 2300,  923,  205, 2442, 2329,    0]],\n",
       "       dtype=uint16)}"
      ]
     },
     "execution_count": 43,
     "metadata": {},
     "output_type": "execute_result"
    }
   ],
   "source": [
    "mat"
   ]
  },
  {
   "cell_type": "code",
   "execution_count": 44,
   "metadata": {},
   "outputs": [],
   "source": [
    "# conversion a data frame que utilizaremos\n",
    "cities = pd.DataFrame(mat['cities'])"
   ]
  },
  {
   "cell_type": "code",
   "execution_count": 45,
   "metadata": {},
   "outputs": [
    {
     "data": {
      "text/plain": [
       "(10, 10)"
      ]
     },
     "execution_count": 45,
     "metadata": {},
     "output_type": "execute_result"
    }
   ],
   "source": [
    "cities.shape"
   ]
  },
  {
   "cell_type": "code",
   "execution_count": 46,
   "metadata": {},
   "outputs": [
    {
     "data": {
      "text/html": [
       "<div>\n",
       "<style scoped>\n",
       "    .dataframe tbody tr th:only-of-type {\n",
       "        vertical-align: middle;\n",
       "    }\n",
       "\n",
       "    .dataframe tbody tr th {\n",
       "        vertical-align: top;\n",
       "    }\n",
       "\n",
       "    .dataframe thead th {\n",
       "        text-align: right;\n",
       "    }\n",
       "</style>\n",
       "<table border=\"1\" class=\"dataframe\">\n",
       "  <thead>\n",
       "    <tr style=\"text-align: right;\">\n",
       "      <th></th>\n",
       "      <th>0</th>\n",
       "      <th>1</th>\n",
       "      <th>2</th>\n",
       "      <th>3</th>\n",
       "      <th>4</th>\n",
       "      <th>5</th>\n",
       "      <th>6</th>\n",
       "      <th>7</th>\n",
       "      <th>8</th>\n",
       "      <th>9</th>\n",
       "    </tr>\n",
       "  </thead>\n",
       "  <tbody>\n",
       "    <tr>\n",
       "      <th>0</th>\n",
       "      <td>0</td>\n",
       "      <td>587</td>\n",
       "      <td>1212</td>\n",
       "      <td>701</td>\n",
       "      <td>1936</td>\n",
       "      <td>604</td>\n",
       "      <td>748</td>\n",
       "      <td>2139</td>\n",
       "      <td>2182</td>\n",
       "      <td>543</td>\n",
       "    </tr>\n",
       "    <tr>\n",
       "      <th>1</th>\n",
       "      <td>587</td>\n",
       "      <td>0</td>\n",
       "      <td>920</td>\n",
       "      <td>940</td>\n",
       "      <td>1745</td>\n",
       "      <td>1188</td>\n",
       "      <td>713</td>\n",
       "      <td>1858</td>\n",
       "      <td>1737</td>\n",
       "      <td>597</td>\n",
       "    </tr>\n",
       "    <tr>\n",
       "      <th>2</th>\n",
       "      <td>1212</td>\n",
       "      <td>920</td>\n",
       "      <td>0</td>\n",
       "      <td>879</td>\n",
       "      <td>831</td>\n",
       "      <td>1726</td>\n",
       "      <td>1631</td>\n",
       "      <td>949</td>\n",
       "      <td>1021</td>\n",
       "      <td>1494</td>\n",
       "    </tr>\n",
       "    <tr>\n",
       "      <th>3</th>\n",
       "      <td>701</td>\n",
       "      <td>940</td>\n",
       "      <td>879</td>\n",
       "      <td>0</td>\n",
       "      <td>1374</td>\n",
       "      <td>968</td>\n",
       "      <td>1420</td>\n",
       "      <td>1645</td>\n",
       "      <td>1891</td>\n",
       "      <td>1220</td>\n",
       "    </tr>\n",
       "    <tr>\n",
       "      <th>4</th>\n",
       "      <td>1936</td>\n",
       "      <td>1745</td>\n",
       "      <td>831</td>\n",
       "      <td>1374</td>\n",
       "      <td>0</td>\n",
       "      <td>2339</td>\n",
       "      <td>2451</td>\n",
       "      <td>347</td>\n",
       "      <td>959</td>\n",
       "      <td>2300</td>\n",
       "    </tr>\n",
       "    <tr>\n",
       "      <th>5</th>\n",
       "      <td>604</td>\n",
       "      <td>1188</td>\n",
       "      <td>1726</td>\n",
       "      <td>968</td>\n",
       "      <td>2339</td>\n",
       "      <td>0</td>\n",
       "      <td>1092</td>\n",
       "      <td>2594</td>\n",
       "      <td>2734</td>\n",
       "      <td>923</td>\n",
       "    </tr>\n",
       "    <tr>\n",
       "      <th>6</th>\n",
       "      <td>748</td>\n",
       "      <td>713</td>\n",
       "      <td>1631</td>\n",
       "      <td>1420</td>\n",
       "      <td>2451</td>\n",
       "      <td>1092</td>\n",
       "      <td>0</td>\n",
       "      <td>2571</td>\n",
       "      <td>2408</td>\n",
       "      <td>205</td>\n",
       "    </tr>\n",
       "    <tr>\n",
       "      <th>7</th>\n",
       "      <td>2139</td>\n",
       "      <td>1858</td>\n",
       "      <td>949</td>\n",
       "      <td>1645</td>\n",
       "      <td>347</td>\n",
       "      <td>2594</td>\n",
       "      <td>2571</td>\n",
       "      <td>0</td>\n",
       "      <td>678</td>\n",
       "      <td>2442</td>\n",
       "    </tr>\n",
       "    <tr>\n",
       "      <th>8</th>\n",
       "      <td>2182</td>\n",
       "      <td>1737</td>\n",
       "      <td>1021</td>\n",
       "      <td>1891</td>\n",
       "      <td>959</td>\n",
       "      <td>2734</td>\n",
       "      <td>2408</td>\n",
       "      <td>678</td>\n",
       "      <td>0</td>\n",
       "      <td>2329</td>\n",
       "    </tr>\n",
       "    <tr>\n",
       "      <th>9</th>\n",
       "      <td>543</td>\n",
       "      <td>597</td>\n",
       "      <td>1494</td>\n",
       "      <td>1220</td>\n",
       "      <td>2300</td>\n",
       "      <td>923</td>\n",
       "      <td>205</td>\n",
       "      <td>2442</td>\n",
       "      <td>2329</td>\n",
       "      <td>0</td>\n",
       "    </tr>\n",
       "  </tbody>\n",
       "</table>\n",
       "</div>"
      ],
      "text/plain": [
       "      0     1     2     3     4     5     6     7     8     9\n",
       "0     0   587  1212   701  1936   604   748  2139  2182   543\n",
       "1   587     0   920   940  1745  1188   713  1858  1737   597\n",
       "2  1212   920     0   879   831  1726  1631   949  1021  1494\n",
       "3   701   940   879     0  1374   968  1420  1645  1891  1220\n",
       "4  1936  1745   831  1374     0  2339  2451   347   959  2300\n",
       "5   604  1188  1726   968  2339     0  1092  2594  2734   923\n",
       "6   748   713  1631  1420  2451  1092     0  2571  2408   205\n",
       "7  2139  1858   949  1645   347  2594  2571     0   678  2442\n",
       "8  2182  1737  1021  1891   959  2734  2408   678     0  2329\n",
       "9   543   597  1494  1220  2300   923   205  2442  2329     0"
      ]
     },
     "execution_count": 46,
     "metadata": {},
     "output_type": "execute_result"
    }
   ],
   "source": [
    "cities"
   ]
  },
  {
   "cell_type": "markdown",
   "metadata": {},
   "source": [
    "## Aplicando MDS\n",
    "\n",
    "Aplicamos MDS con sklearn sobre la matriz de distancias obtenida."
   ]
  },
  {
   "cell_type": "code",
   "execution_count": 47,
   "metadata": {},
   "outputs": [
    {
     "data": {
      "text/plain": [
       "array([[  564.60742156,   465.52680136],\n",
       "       [  498.47198364,  -119.48714212],\n",
       "       [ -411.966161  ,  -250.78935339],\n",
       "       [ -128.93759757,   580.67642829],\n",
       "       [-1241.26168858,  -233.37711391],\n",
       "       [  723.12151986,  1046.20543653],\n",
       "       [ 1189.09383585,    54.63160703],\n",
       "       [-1301.68718088,  -577.36444922],\n",
       "       [ -912.00741188, -1136.96756519],\n",
       "       [ 1020.56527899,   170.94535061]])"
      ]
     },
     "execution_count": 47,
     "metadata": {},
     "output_type": "execute_result"
    }
   ],
   "source": [
    "# indicamos que queremos dos componentes\n",
    "mds = manifold.MDS(n_components=2, max_iter=3000, eps=1e-9,\n",
    "                   dissimilarity=\"precomputed\", n_jobs=1)\n",
    "pos = mds.fit(cities).embedding_\n",
    "pos"
   ]
  },
  {
   "cell_type": "code",
   "execution_count": 48,
   "metadata": {},
   "outputs": [
    {
     "data": {
      "image/png": "[encoded data removed]",
      "text/plain": [
       "<Figure size 432x288 with 1 Axes>"
      ]
     },
     "metadata": {},
     "output_type": "display_data"
    }
   ],
   "source": [
    "fig = plt.figure(1)\n",
    "ax = plt.axes([0., 0., 1., 1.])\n",
    "\n",
    "plt.scatter(pos[:, 0], pos[:, 1], color='green', lw=0, label='MDS')\n",
    "plt.legend(scatterpoints=1, loc='best', shadow=False)\n",
    "\n",
    "plt.show()"
   ]
  },
  {
   "cell_type": "markdown",
   "metadata": {},
   "source": [
    "A aplicar el algotirmo obtenemos la siguente representacion en el plano. con un poco de trabajo y mas informacion del set de datos prodriamos discernir cual de cada una de las ciudades es cada una.\n",
    "\n",
    "Tener en cuenta que las coordenadas que nos devuelve MDS pueden estar espejadas y rotadas respecto de la realidad, ya que las distances en todos los casos son las mismas, pero nos facilita el analisis de las mismas."
   ]
  },
  {
   "cell_type": "code",
   "execution_count": 49,
   "metadata": {},
   "outputs": [
    {
     "data": {
      "text/plain": [
       "array([[ -423.15580902,   108.63994897,  -587.75068094],\n",
       "       [  154.28248522,   120.92248691,  -474.05597995],\n",
       "       [  215.58939761,   -15.52727328,   434.37016376],\n",
       "       [ -587.50664539,   -48.57491917,    77.90014424],\n",
       "       [  141.48646297,  -236.15700018,  1232.38688501],\n",
       "       [ -985.77758709,    63.28074754,  -800.5946143 ],\n",
       "       [   34.70601855,   200.77263215, -1172.42272635],\n",
       "       [  479.38712791,  -233.29455523,  1320.1965636 ],\n",
       "       [ 1065.40987169,  -143.18491834,   983.91719153],\n",
       "       [  -94.42132243,   183.12285063, -1013.94694659]])"
      ]
     },
     "execution_count": 49,
     "metadata": {},
     "output_type": "execute_result"
    }
   ],
   "source": [
    "# indicamos que queremos tres componentes\n",
    "mds = manifold.MDS(n_components=3, max_iter=3000, eps=1e-9,\n",
    "                   dissimilarity=\"precomputed\", n_jobs=1)\n",
    "pos = mds.fit(cities).embedding_\n",
    "pos"
   ]
  },
  {
   "cell_type": "code",
   "execution_count": 50,
   "metadata": {},
   "outputs": [
    {
     "data": {
      "image/png": "[encoded data removed]",
      "text/plain": [
       "<Figure size 432x288 with 1 Axes>"
      ]
     },
     "metadata": {},
     "output_type": "display_data"
    }
   ],
   "source": [
    "from mpl_toolkits import mplot3d\n",
    "\n",
    "fig = plt.figure(1)\n",
    "ax = plt.axes(projection='3d')\n",
    "\n",
    "ax.scatter3D(pos[:, 0], pos[:, 1], pos[:, 2], color='green', lw=0, label='MDS')\n",
    "plt.legend(scatterpoints=1, loc='best', shadow=False)\n",
    "\n",
    "plt.show()"
   ]
  },
  {
   "cell_type": "code",
   "execution_count": null,
   "metadata": {},
   "outputs": [],
   "source": []
  }
 ],
 "metadata": {
  "kernelspec": {
   "display_name": "Python 3",
   "language": "python",
   "name": "python3"
  },
  "language_info": {
   "codemirror_mode": {
    "name": "ipython",
    "version": 3
   },
   "file_extension": ".py",
   "mimetype": "text/x-python",
   "name": "python",
   "nbconvert_exporter": "python",
   "pygments_lexer": "ipython3",
   "version": "3.6.4"
  }
 },
 "nbformat": 4,
 "nbformat_minor": 2
}
