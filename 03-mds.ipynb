{
 "cells": [
  {
   "cell_type": "markdown",
   "metadata": {},
   "source": [
    "# MDS Cities"
   ]
  },
  {
   "cell_type": "code",
   "execution_count": 86,
   "metadata": {},
   "outputs": [],
   "source": [
    "import warnings\n",
    "warnings.filterwarnings('ignore')\n",
    "\n",
    "## Interactive magics - comment out if running from another script\n",
    "%matplotlib inline\n",
    "%qtconsole"
   ]
  },
  {
   "cell_type": "code",
   "execution_count": 87,
   "metadata": {},
   "outputs": [
    {
     "name": "stdout",
     "output_type": "stream",
     "text": [
      "Automatically created module for IPython interactive environment\n"
     ]
    }
   ],
   "source": [
    "print(__doc__)\n",
    "import numpy as np\n",
    "\n",
    "from matplotlib import pyplot as plt\n",
    "\n",
    "from sklearn import manifold\n",
    "from sklearn.metrics import euclidean_distances\n",
    "\n",
    "import scipy.io\n",
    "import pandas as pd"
   ]
  },
  {
   "cell_type": "markdown",
   "metadata": {},
   "source": [
    "## Carga de datos de ciudades"
   ]
  },
  {
   "cell_type": "code",
   "execution_count": 88,
   "metadata": {},
   "outputs": [],
   "source": [
    "# carga de una matriz de matlab\n",
    "mat = scipy.io.loadmat('cities.mat')"
   ]
  },
  {
   "cell_type": "code",
   "execution_count": 89,
   "metadata": {},
   "outputs": [
    {
     "data": {
      "text/plain": [
       "{'__header__': b'MATLAB 5.0 MAT-file, Platform: PCWIN64, Created on: Thu Jan 22 00:56:39 2015',\n",
       " '__version__': '1.0',\n",
       " '__globals__': [],\n",
       " 'cities': array([[   0,  587, 1212,  701, 1936,  604,  748, 2139, 2182,  543],\n",
       "        [ 587,    0,  920,  940, 1745, 1188,  713, 1858, 1737,  597],\n",
       "        [1212,  920,    0,  879,  831, 1726, 1631,  949, 1021, 1494],\n",
       "        [ 701,  940,  879,    0, 1374,  968, 1420, 1645, 1891, 1220],\n",
       "        [1936, 1745,  831, 1374,    0, 2339, 2451,  347,  959, 2300],\n",
       "        [ 604, 1188, 1726,  968, 2339,    0, 1092, 2594, 2734,  923],\n",
       "        [ 748,  713, 1631, 1420, 2451, 1092,    0, 2571, 2408,  205],\n",
       "        [2139, 1858,  949, 1645,  347, 2594, 2571,    0,  678, 2442],\n",
       "        [2182, 1737, 1021, 1891,  959, 2734, 2408,  678,    0, 2329],\n",
       "        [ 543,  597, 1494, 1220, 2300,  923,  205, 2442, 2329,    0]],\n",
       "       dtype=uint16)}"
      ]
     },
     "execution_count": 89,
     "metadata": {},
     "output_type": "execute_result"
    }
   ],
   "source": [
    "mat"
   ]
  },
  {
   "cell_type": "code",
   "execution_count": 90,
   "metadata": {},
   "outputs": [],
   "source": [
    "# conversion a data frame que utilizaremos\n",
    "cities = pd.DataFrame(mat['cities'])"
   ]
  },
  {
   "cell_type": "code",
   "execution_count": 91,
   "metadata": {},
   "outputs": [
    {
     "data": {
      "text/plain": [
       "array([[   0.        , 1220.73215735, 3163.61833981, 1704.48525954,\n",
       "        4810.37649254, 1537.26770603, 1637.90079065, 5234.78318558,\n",
       "        5086.12573576, 1257.46053616],\n",
       "       [1220.73215735,    0.        , 2489.62969134, 1710.25758294,\n",
       "        4270.85319345, 2368.93541491, 1843.50372932, 4660.45148028,\n",
       "        4445.91115521, 1565.3957966 ],\n",
       "       [3163.61833981, 2489.62969134,    0.        , 2009.26080935,\n",
       "        2212.46491498, 3865.04605406, 3887.63141257, 2648.53997516,\n",
       "        2669.13057005, 3729.3970022 ],\n",
       "       [1704.48525954, 1710.25758294, 2009.26080935,    0.        ,\n",
       "        3551.58218263, 2323.92727941, 2825.3029926 , 4039.25451043,\n",
       "        4053.71323603, 2580.77837096],\n",
       "       [4810.37649254, 4270.85319345, 2212.46491498, 3551.58218263,\n",
       "           0.        , 5092.62407802, 5303.1214393 ,  748.80638352,\n",
       "        1572.13453623, 5255.20075735],\n",
       "       [1537.26770603, 2368.93541491, 3865.04605406, 2323.92727941,\n",
       "        5092.62407802,    0.        , 1865.33937931, 5478.58165952,\n",
       "        5326.73436544, 1774.71321627],\n",
       "       [1637.90079065, 1843.50372932, 3887.63141257, 2825.3029926 ,\n",
       "        5303.1214393 , 1865.33937931,    0.        , 5626.8664459 ,\n",
       "        5320.98242809,  522.0574681 ],\n",
       "       [5234.78318558, 4660.45148028, 2648.53997516, 4039.25451043,\n",
       "         748.80638352, 5478.58165952, 5626.8664459 ,    0.        ,\n",
       "        1197.93155063, 5609.98413545],\n",
       "       [5086.12573576, 4445.91115521, 2669.13057005, 4053.71323603,\n",
       "        1572.13453623, 5326.73436544, 5320.98242809, 1197.93155063,\n",
       "           0.        , 5343.33977958],\n",
       "       [1257.46053616, 1565.3957966 , 3729.3970022 , 2580.77837096,\n",
       "        5255.20075735, 1774.71321627,  522.0574681 , 5609.98413545,\n",
       "        5343.33977958,    0.        ]])"
      ]
     },
     "execution_count": 91,
     "metadata": {},
     "output_type": "execute_result"
    }
   ],
   "source": [
    "# centramos los datos\n",
    "cities -= cities.mean()\n",
    "# y calculamos la matriz de distancias via sklearn\n",
    "distances = euclidean_distances(cities)\n",
    "distances"
   ]
  },
  {
   "cell_type": "markdown",
   "metadata": {},
   "source": [
    "## Aplicando MDS\n",
    "\n",
    "Aplicamos MDS con sklearn sobre la matriz de distancias obtenida."
   ]
  },
  {
   "cell_type": "code",
   "execution_count": 92,
   "metadata": {},
   "outputs": [
    {
     "data": {
      "text/plain": [
       "array([[ 1338.75904607,  1216.46763047],\n",
       "       [ 1351.7308143 ,   -43.23308428],\n",
       "       [ -439.9431759 , -1335.78235499],\n",
       "       [ -124.35378154,   831.74986291],\n",
       "       [-2180.70306261, -1998.86354175],\n",
       "       [ 1115.43297396,  2315.64954604],\n",
       "       [ 2552.20039189,   717.59720776],\n",
       "       [-2804.39522507, -1856.61723276],\n",
       "       [-3089.68313684,  -830.93356134],\n",
       "       [ 2280.95515574,   983.96552793]])"
      ]
     },
     "execution_count": 92,
     "metadata": {},
     "output_type": "execute_result"
    }
   ],
   "source": [
    "# indicamos que queremos dos componentes\n",
    "mds = manifold.MDS(n_components=2, max_iter=3000, eps=1e-9,\n",
    "                   dissimilarity=\"precomputed\", n_jobs=1)\n",
    "pos = mds.fit(distances).embedding_\n",
    "pos"
   ]
  },
  {
   "cell_type": "code",
   "execution_count": 93,
   "metadata": {},
   "outputs": [
    {
     "data": {
      "image/png": "[encoded data removed]",
      "text/plain": [
       "<Figure size 432x288 with 1 Axes>"
      ]
     },
     "metadata": {},
     "output_type": "display_data"
    }
   ],
   "source": [
    "fig = plt.figure(1)\n",
    "ax = plt.axes([0., 0., 1., 1.])\n",
    "\n",
    "plt.scatter(pos[:, 0], pos[:, 1], color='turquoise', lw=0, label='MDS')\n",
    "plt.legend(scatterpoints=1, loc='best', shadow=False)\n",
    "\n",
    "distances = distances.max() / distances * 100\n",
    "distances[np.isinf(distances)] = 0\n",
    "\n",
    "plt.show()"
   ]
  },
  {
   "cell_type": "markdown",
   "metadata": {},
   "source": [
    "A aplicar el algotirmo obtenemos la siguente representacion en el plano. con un poco de trabajo y mas informacion del set de datos prodriamos discernir cual de cada una de las ciudades es cada una.\n",
    "\n",
    "Tener en cuenta que las coordinas que nos devuelve MDS pueden estar espejadas y rotadas respecto de la realidad, ya que las distances en todos los casos son las mismas, pero nos facilita el analisis de las mismas."
   ]
  }
 ],
 "metadata": {
  "kernelspec": {
   "display_name": "Python 3",
   "language": "python",
   "name": "python3"
  },
  "language_info": {
   "codemirror_mode": {
    "name": "ipython",
    "version": 3
   },
   "file_extension": ".py",
   "mimetype": "text/x-python",
   "name": "python",
   "nbconvert_exporter": "python",
   "pygments_lexer": "ipython3",
   "version": "3.6.4"
  }
 },
 "nbformat": 4,
 "nbformat_minor": 2
}
